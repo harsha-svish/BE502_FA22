{
 "cells": [
  {
   "cell_type": "code",
   "execution_count": 2,
   "metadata": {},
   "outputs": [],
   "source": [
    "import pandas as pd\n",
    "import datetime\n",
    "from datetime import date"
   ]
  },
  {
   "cell_type": "code",
   "execution_count": 3,
   "metadata": {},
   "outputs": [],
   "source": [
    "data=pd.read_csv('/home/u21/shv/bat502_lab/tucson_car_accidents.csv')"
   ]
  },
  {
   "cell_type": "code",
   "execution_count": 4,
   "metadata": {},
   "outputs": [
    {
     "data": {
      "text/html": [
       "<div>\n",
       "<style scoped>\n",
       "    .dataframe tbody tr th:only-of-type {\n",
       "        vertical-align: middle;\n",
       "    }\n",
       "\n",
       "    .dataframe tbody tr th {\n",
       "        vertical-align: top;\n",
       "    }\n",
       "\n",
       "    .dataframe thead th {\n",
       "        text-align: right;\n",
       "    }\n",
       "</style>\n",
       "<table border=\"1\" class=\"dataframe\">\n",
       "  <thead>\n",
       "    <tr style=\"text-align: right;\">\n",
       "      <th></th>\n",
       "      <th>AccidentID</th>\n",
       "      <th>Collision_Date</th>\n",
       "      <th>Year</th>\n",
       "      <th>Month</th>\n",
       "      <th>Weekday</th>\n",
       "      <th>Hour</th>\n",
       "      <th>Collision Type</th>\n",
       "      <th>How Collision Occurred</th>\n",
       "      <th>Injury Severity</th>\n",
       "      <th>Division</th>\n",
       "      <th>Ward</th>\n",
       "      <th>Intersection</th>\n",
       "      <th>OperatorDistracted</th>\n",
       "      <th>OperatorImpaired</th>\n",
       "    </tr>\n",
       "  </thead>\n",
       "  <tbody>\n",
       "    <tr>\n",
       "      <th>0</th>\n",
       "      <td>1801010214</td>\n",
       "      <td>2018-01-01</td>\n",
       "      <td>2018</td>\n",
       "      <td>Jan</td>\n",
       "      <td>Monday</td>\n",
       "      <td>300</td>\n",
       "      <td>Vehicle / Vehicle</td>\n",
       "      <td>Angle (Front To Side)</td>\n",
       "      <td>Unknown Injury</td>\n",
       "      <td>West</td>\n",
       "      <td>1</td>\n",
       "      <td>Anklam Rd / Shannon Rd</td>\n",
       "      <td>1</td>\n",
       "      <td>0</td>\n",
       "    </tr>\n",
       "    <tr>\n",
       "      <th>1</th>\n",
       "      <td>1801010535</td>\n",
       "      <td>2018-01-01</td>\n",
       "      <td>2018</td>\n",
       "      <td>Jan</td>\n",
       "      <td>Monday</td>\n",
       "      <td>2100</td>\n",
       "      <td>Vehicle / Vehicle</td>\n",
       "      <td>Rear-End (Front To Back)</td>\n",
       "      <td>Non-Incapacitating Injury</td>\n",
       "      <td>West</td>\n",
       "      <td>3</td>\n",
       "      <td>1st Av / Prince Rd</td>\n",
       "      <td>1</td>\n",
       "      <td>1</td>\n",
       "    </tr>\n",
       "    <tr>\n",
       "      <th>2</th>\n",
       "      <td>1801010486</td>\n",
       "      <td>2018-01-01</td>\n",
       "      <td>2018</td>\n",
       "      <td>Jan</td>\n",
       "      <td>Monday</td>\n",
       "      <td>1800</td>\n",
       "      <td>Vehicle / Vehicle</td>\n",
       "      <td>Head-On (Front To Front)</td>\n",
       "      <td>No Injury</td>\n",
       "      <td>Midtown</td>\n",
       "      <td>6</td>\n",
       "      <td>Grant Rd / Columbus Bl</td>\n",
       "      <td>0</td>\n",
       "      <td>0</td>\n",
       "    </tr>\n",
       "    <tr>\n",
       "      <th>3</th>\n",
       "      <td>1801010494</td>\n",
       "      <td>2018-01-01</td>\n",
       "      <td>2018</td>\n",
       "      <td>Jan</td>\n",
       "      <td>Monday</td>\n",
       "      <td>1600</td>\n",
       "      <td>Vehicle / Vehicle</td>\n",
       "      <td>Head-On (Front To Front)</td>\n",
       "      <td>No Injury</td>\n",
       "      <td>East</td>\n",
       "      <td>6</td>\n",
       "      <td>Lee St</td>\n",
       "      <td>1</td>\n",
       "      <td>0</td>\n",
       "    </tr>\n",
       "    <tr>\n",
       "      <th>4</th>\n",
       "      <td>1801010223</td>\n",
       "      <td>2018-01-01</td>\n",
       "      <td>2018</td>\n",
       "      <td>Jan</td>\n",
       "      <td>Monday</td>\n",
       "      <td>800</td>\n",
       "      <td>Single Vehicle</td>\n",
       "      <td>Single Vehicle</td>\n",
       "      <td>No Injury</td>\n",
       "      <td>South</td>\n",
       "      <td>5</td>\n",
       "      <td>Campbell Av / Benson Hy</td>\n",
       "      <td>0</td>\n",
       "      <td>0</td>\n",
       "    </tr>\n",
       "  </tbody>\n",
       "</table>\n",
       "</div>"
      ],
      "text/plain": [
       "   AccidentID Collision_Date  Year Month Weekday  Hour     Collision Type  \\\n",
       "0  1801010214     2018-01-01  2018   Jan  Monday   300  Vehicle / Vehicle   \n",
       "1  1801010535     2018-01-01  2018   Jan  Monday  2100  Vehicle / Vehicle   \n",
       "2  1801010486     2018-01-01  2018   Jan  Monday  1800  Vehicle / Vehicle   \n",
       "3  1801010494     2018-01-01  2018   Jan  Monday  1600  Vehicle / Vehicle   \n",
       "4  1801010223     2018-01-01  2018   Jan  Monday   800     Single Vehicle   \n",
       "\n",
       "     How Collision Occurred            Injury Severity Division Ward  \\\n",
       "0     Angle (Front To Side)             Unknown Injury     West    1   \n",
       "1  Rear-End (Front To Back)  Non-Incapacitating Injury     West    3   \n",
       "2  Head-On (Front To Front)                  No Injury  Midtown    6   \n",
       "3  Head-On (Front To Front)                  No Injury     East    6   \n",
       "4            Single Vehicle                  No Injury    South    5   \n",
       "\n",
       "              Intersection  OperatorDistracted  OperatorImpaired  \n",
       "0   Anklam Rd / Shannon Rd                   1                 0  \n",
       "1       1st Av / Prince Rd                   1                 1  \n",
       "2   Grant Rd / Columbus Bl                   0                 0  \n",
       "3                   Lee St                   1                 0  \n",
       "4  Campbell Av / Benson Hy                   0                 0  "
      ]
     },
     "execution_count": 4,
     "metadata": {},
     "output_type": "execute_result"
    }
   ],
   "source": [
    "data.head()"
   ]
  },
  {
   "cell_type": "code",
   "execution_count": 8,
   "metadata": {},
   "outputs": [],
   "source": [
    "data21=data[(data['Collision_Date'].str.contains(\"2021\"))]\n",
    "data20=data[(data['Collision_Date'].str.contains(\"2020\"))]\n",
    "dates=data['Collision_Date'].str.split('-')\n",
    "data['year']=[dates[i][0] for i in dates.index]\n",
    "data['month']=[dates[i][1] for i in dates.index]\n",
    "data['day']=[dates[i][2] for i in dates.index]"
   ]
  },
  {
   "cell_type": "code",
   "execution_count": null,
   "metadata": {},
   "outputs": [],
   "source": [
    "diff_data=pd.merge(data[data['year']=='2021'], data[data['year']=='2020'],\n",
    "    on=[\"Collision Type\"], how='inner',suffixes=(\"_2021\",\"_2020\"))"
   ]
  },
  {
   "cell_type": "code",
   "execution_count": 6,
   "metadata": {},
   "outputs": [
    {
     "ename": "NameError",
     "evalue": "name 'diff_data' is not defined",
     "output_type": "error",
     "traceback": [
      "\u001b[0;31m---------------------------------------------------------------------------\u001b[0m",
      "\u001b[0;31mNameError\u001b[0m                                 Traceback (most recent call last)",
      "\u001b[0;32m<ipython-input-6-417bab051133>\u001b[0m in \u001b[0;36m<module>\u001b[0;34m\u001b[0m\n\u001b[0;32m----> 1\u001b[0;31m \u001b[0mdiff_data\u001b[0m\u001b[0;34m.\u001b[0m\u001b[0mhead\u001b[0m\u001b[0;34m(\u001b[0m\u001b[0;34m)\u001b[0m\u001b[0;34m\u001b[0m\u001b[0;34m\u001b[0m\u001b[0m\n\u001b[0m",
      "\u001b[0;31mNameError\u001b[0m: name 'diff_data' is not defined"
     ]
    }
   ],
   "source": [
    "diff_data.head()"
   ]
  },
  {
   "cell_type": "code",
   "execution_count": null,
   "metadata": {},
   "outputs": [],
   "source": []
  }
 ],
 "metadata": {
  "kernelspec": {
   "display_name": "Python 3",
   "language": "python",
   "name": "python3"
  },
  "language_info": {
   "codemirror_mode": {
    "name": "ipython",
    "version": 3
   },
   "file_extension": ".py",
   "mimetype": "text/x-python",
   "name": "python",
   "nbconvert_exporter": "python",
   "pygments_lexer": "ipython3",
   "version": "3.8.2"
  }
 },
 "nbformat": 4,
 "nbformat_minor": 4
}
